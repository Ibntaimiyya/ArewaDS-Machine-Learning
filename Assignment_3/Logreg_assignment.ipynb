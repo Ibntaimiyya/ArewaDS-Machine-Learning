{
 "cells": [
  {
   "cell_type": "code",
   "execution_count": null,
   "id": "ba854152",
   "metadata": {},
   "outputs": [],
   "source": [
    "# Logistic Regression on US-pumpkins dataset\n",
    "import pandas as pd\n",
    "from sklearn.preprocessing import LabelEncoder\n",
    "from sklearn.model_selection import train_test_split\n",
    "from sklearn.linear_model import LogisticRegression\n",
    "from sklearn.metrics import classification_report, confusion_matrix\n",
    "\n",
    "# Load your dataset\n",
    "df = pd.read_csv(\"US-pumpkins.csv\")\n",
    "print(df.head(5))\n",
    "\n",
    "# lets check for missing values\n",
    "df.isnull().sum()"
   ]
  },
  {
   "cell_type": "markdown",
   "id": "bcf9165f",
   "metadata": {},
   "source": [
    "so its obvious from the above, we have only 8 columns with less than 5% missing-data; all the rest have a lot of missing values. so we can drop the rest using dropna()"
   ]
  },
  {
   "cell_type": "code",
   "execution_count": null,
   "id": "004653d4",
   "metadata": {},
   "outputs": [],
   "source": [
    "# dropping unnecessary columns: we first create a list of useful columns; 'useful_cols'\n",
    "\n",
    "useful_cols = ['City Name', 'Package', 'Date', 'Low Price', 'High Price', 'Repack']\n",
    "for c in df.columns:\n",
    "    if c not in useful_cols:\n",
    "        df = df.drop(columns=c)\n",
    "print(df)\n",
    "\n",
    "df.isnull().sum()\n"
   ]
  },
  {
   "cell_type": "markdown",
   "id": "c2f9dfde",
   "metadata": {},
   "source": [
    "So we have no missing data in our entire DataFrame. Now let's convert Date to datetime"
   ]
  },
  {
   "cell_type": "code",
   "execution_count": null,
   "id": "9249814f",
   "metadata": {},
   "outputs": [],
   "source": [
    "# lets Convert Date to datetime and extract features\n",
    "df['Date'] = pd.to_datetime(df['Date'], errors='coerce')\n",
    "df['Year'] = df['Date'].dt.year\n",
    "df['Month'] = df['Date'].dt.month\n",
    "df['Day'] = df['Date'].dt.day\n",
    "\n",
    "df['Date'].head()\n"
   ]
  },
  {
   "cell_type": "code",
   "execution_count": null,
   "id": "70cd5d04",
   "metadata": {},
   "outputs": [],
   "source": [
    "# Now lets encode our target variable. We first instantiate LabelEncoder() and then fit_transform() on our target column\n",
    "label_enc = LabelEncoder()\n",
    "df['Repack'] = label_enc.fit_transform(df['Repack'])\n",
    "\n",
    "# One-hot encode categorical variables (excluding target)\n",
    "categorical_cols = ['City Name', 'Package', 'Date', 'Low Price', 'High Price',]\n",
    "df_encoded = pd.get_dummies(df, columns=categorical_cols, drop_first=True)\n",
    "print(df_encoded.head())\n"
   ]
  },
  {
   "cell_type": "code",
   "execution_count": 21,
   "id": "2ab401c7",
   "metadata": {},
   "outputs": [],
   "source": [
    "# Split features (X) and target (y)\n",
    "X = df_encoded.drop(columns=['Repack'])\n",
    "y = df_encoded['Repack']\n",
    "\n",
    "# Train/test split\n",
    "X_train, X_test, y_train, y_test = train_test_split(X, y, test_size=0.2, random_state=42, stratify=y)"
   ]
  },
  {
   "cell_type": "markdown",
   "id": "180957a3",
   "metadata": {},
   "source": [
    "We have now succesfully trained our dataset. Lets now perform logistic regression and evaluate some metric scores"
   ]
  },
  {
   "cell_type": "code",
   "execution_count": 23,
   "id": "3b40baeb",
   "metadata": {},
   "outputs": [
    {
     "name": "stdout",
     "output_type": "stream",
     "text": [
      "Confusion Matrix:\n",
      " [[  0   1]\n",
      " [  0 351]]\n",
      "\n",
      "Classification Report:\n",
      "               precision    recall  f1-score   support\n",
      "\n",
      "           0       0.00      0.00      0.00         1\n",
      "           1       1.00      1.00      1.00       351\n",
      "\n",
      "    accuracy                           1.00       352\n",
      "   macro avg       0.50      0.50      0.50       352\n",
      "weighted avg       0.99      1.00      1.00       352\n",
      "\n"
     ]
    },
    {
     "name": "stderr",
     "output_type": "stream",
     "text": [
      "c:\\Users\\LENOVO\\miniconda3\\Lib\\site-packages\\sklearn\\metrics\\_classification.py:1731: UndefinedMetricWarning: Precision is ill-defined and being set to 0.0 in labels with no predicted samples. Use `zero_division` parameter to control this behavior.\n",
      "  _warn_prf(average, modifier, f\"{metric.capitalize()} is\", result.shape[0])\n",
      "c:\\Users\\LENOVO\\miniconda3\\Lib\\site-packages\\sklearn\\metrics\\_classification.py:1731: UndefinedMetricWarning: Precision is ill-defined and being set to 0.0 in labels with no predicted samples. Use `zero_division` parameter to control this behavior.\n",
      "  _warn_prf(average, modifier, f\"{metric.capitalize()} is\", result.shape[0])\n",
      "c:\\Users\\LENOVO\\miniconda3\\Lib\\site-packages\\sklearn\\metrics\\_classification.py:1731: UndefinedMetricWarning: Precision is ill-defined and being set to 0.0 in labels with no predicted samples. Use `zero_division` parameter to control this behavior.\n",
      "  _warn_prf(average, modifier, f\"{metric.capitalize()} is\", result.shape[0])\n"
     ]
    }
   ],
   "source": [
    "# Fit logistic regression model\n",
    "log_reg = LogisticRegression()\n",
    "log_reg.fit(X_train, y_train)\n",
    "\n",
    "# Evaluate\n",
    "y_pred = log_reg.predict(X_test)\n",
    "print(\"Confusion Matrix:\\n\", confusion_matrix(y_test, y_pred))\n",
    "print(\"\\nClassification Report:\\n\", classification_report(y_test, y_pred))"
   ]
  },
  {
   "cell_type": "code",
   "execution_count": 24,
   "id": "b117e0ca",
   "metadata": {},
   "outputs": [
    {
     "data": {
      "text/plain": [
       "(3995, 382)"
      ]
     },
     "execution_count": 24,
     "metadata": {},
     "output_type": "execute_result"
    }
   ],
   "source": [
    "df = pd.read_csv(\"cleaned_cuisines.csv\")\n",
    "df.shape"
   ]
  }
 ],
 "metadata": {
  "kernelspec": {
   "display_name": "base",
   "language": "python",
   "name": "python3"
  },
  "language_info": {
   "codemirror_mode": {
    "name": "ipython",
    "version": 3
   },
   "file_extension": ".py",
   "mimetype": "text/x-python",
   "name": "python",
   "nbconvert_exporter": "python",
   "pygments_lexer": "ipython3",
   "version": "3.13.2"
  }
 },
 "nbformat": 4,
 "nbformat_minor": 5
}
