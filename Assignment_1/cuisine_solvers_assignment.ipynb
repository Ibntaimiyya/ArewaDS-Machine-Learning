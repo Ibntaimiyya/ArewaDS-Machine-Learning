{
 "cells": [
  {
   "cell_type": "code",
   "execution_count": 15,
   "id": "15760b31",
   "metadata": {},
   "outputs": [
    {
     "data": {
      "text/plain": [
       "(3995, 382)"
      ]
     },
     "execution_count": 15,
     "metadata": {},
     "output_type": "execute_result"
    }
   ],
   "source": [
    "import pandas as pd\n",
    "cuisines_df = pd.read_csv(\"cleaned_cuisines.csv\")\n",
    "cuisines_df.shape"
   ]
  },
  {
   "cell_type": "code",
   "execution_count": 16,
   "id": "16435d8c",
   "metadata": {},
   "outputs": [],
   "source": [
    "# import necessary libraries\n",
    "import pandas as pd\n",
    "from sklearn.model_selection import train_test_split\n",
    "from sklearn.preprocessing import LabelEncoder\n",
    "from sklearn.linear_model import LogisticRegression\n",
    "from sklearn.metrics import accuracy_score"
   ]
  },
  {
   "cell_type": "code",
   "execution_count": 18,
   "id": "6ea2a847",
   "metadata": {},
   "outputs": [],
   "source": [
    "# Prepare the label and feature dataframes\n",
    "# Features and target\n",
    "y = cuisines_df['cuisine']\n",
    "X = cuisines_df.drop(columns=['Unnamed: 0', 'cuisine'], errors='ignore')\n",
    "# Encode target labels\n",
    "le = LabelEncoder()\n",
    "y_encoded = le.fit_transform(y)\n",
    "\n",
    "# Train-test split\n",
    "X_train, X_test, y_train, y_test = train_test_split(\n",
    "    X, y_encoded, test_size=0.2, random_state=42, stratify=y_encoded\n",
    ")"
   ]
  },
  {
   "cell_type": "code",
   "execution_count": 21,
   "id": "8f6e6a7c",
   "metadata": {},
   "outputs": [
    {
     "name": "stderr",
     "output_type": "stream",
     "text": [
      "c:\\Users\\LENOVO\\miniconda3\\Lib\\site-packages\\sklearn\\linear_model\\_logistic.py:1272: FutureWarning: 'multi_class' was deprecated in version 1.5 and will be removed in 1.7. From then on, it will always use 'multinomial'. Leave it to its default value to avoid this warning.\n",
      "  warnings.warn(\n"
     ]
    }
   ],
   "source": [
    "#1. lets perform Logistic Regression with lbfgs solver\n",
    "logreg_lbfgs = LogisticRegression(max_iter=500, solver=\"lbfgs\", multi_class=\"multinomial\")\n",
    "logreg_lbfgs.fit(X_train, y_train)\n",
    "y_pred_lbfgs = logreg_lbfgs.predict(X_test)\n",
    "acc_lbfgs = accuracy_score(y_test, y_pred_lbfgs)"
   ]
  },
  {
   "cell_type": "code",
   "execution_count": 22,
   "id": "ad2f4743",
   "metadata": {},
   "outputs": [
    {
     "name": "stderr",
     "output_type": "stream",
     "text": [
      "c:\\Users\\LENOVO\\miniconda3\\Lib\\site-packages\\sklearn\\linear_model\\_logistic.py:1272: FutureWarning: 'multi_class' was deprecated in version 1.5 and will be removed in 1.7. From then on, it will always use 'multinomial'. Leave it to its default value to avoid this warning.\n",
      "  warnings.warn(\n"
     ]
    }
   ],
   "source": [
    "# Now lets see the performance of logistic saga solver\n",
    "logreg_saga = LogisticRegression(max_iter=500, solver=\"saga\", multi_class=\"multinomial\")\n",
    "logreg_saga.fit(X_train, y_train)\n",
    "y_pred_saga = logreg_saga.predict(X_test)\n",
    "acc_saga = accuracy_score(y_test, y_pred_saga)"
   ]
  },
  {
   "cell_type": "code",
   "execution_count": 24,
   "id": "b306e396",
   "metadata": {},
   "outputs": [
    {
     "name": "stdout",
     "output_type": "stream",
     "text": [
      "lbfgs accuracy score: 0.83\n",
      "saga accuracy score: 0.82\n"
     ]
    }
   ],
   "source": [
    "# get accuracy scores for these solvers\n",
    "print(\"lbfgs accuracy score: {:.2f}\".format(acc_lbfgs))\n",
    "print(\"saga accuracy score: {:.2f}\".format(acc_saga))"
   ]
  },
  {
   "cell_type": "markdown",
   "id": "8263f7e0",
   "metadata": {},
   "source": [
    "Although both have good scores, 'lbfgs accuracy score' stands out (0.83).\n",
    "If your dataset is small to medium, dense (like cuisines/ingredients), lbfgs is faster and more stable.\n",
    "\n",
    "If your dataset is large and sparse (e.g., millions of text features in NLP, bag-of-words, TF-IDF) saga is the solver of choice."
   ]
  }
 ],
 "metadata": {
  "kernelspec": {
   "display_name": "base",
   "language": "python",
   "name": "python3"
  },
  "language_info": {
   "codemirror_mode": {
    "name": "ipython",
    "version": 3
   },
   "file_extension": ".py",
   "mimetype": "text/x-python",
   "name": "python",
   "nbconvert_exporter": "python",
   "pygments_lexer": "ipython3",
   "version": "3.13.2"
  }
 },
 "nbformat": 4,
 "nbformat_minor": 5
}
